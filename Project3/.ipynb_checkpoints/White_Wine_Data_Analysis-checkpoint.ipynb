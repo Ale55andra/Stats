{
 "cells": [
  {
   "cell_type": "markdown",
   "metadata": {},
   "source": [
    "# Wine Analysis"
   ]
  },
  {
   "cell_type": "markdown",
   "metadata": {},
   "source": [
    "Because when there is a pandemic, we drink more."
   ]
  },
  {
   "cell_type": "markdown",
   "metadata": {},
   "source": [
    "## Background"
   ]
  },
  {
   "cell_type": "markdown",
   "metadata": {},
   "source": [
    "I recently lost my job and I wanted to do a one-off data analytics project. Stock prices, COVID-19 supply chain, and number of patients recovered contended as noble applications of my time and effort. However, sitting here drinking the last few drops of my bottle of Chardonnay and getting emails from a local winery trying to sell me a $70 bottle of Chardonnay (somehow knowing I'm out), I set out to answer a more pressing question in these troubling times: what wine should I buy next?"
   ]
  },
  {
   "cell_type": "markdown",
   "metadata": {},
   "source": [
    "## Objective"
   ]
  },
  {
   "cell_type": "markdown",
   "metadata": {},
   "source": [
    "In this project, I want to analyze the wine quality and the price, separated by region.  Are wines from France really better than wines from Spain? Do Chilean wines stand a chance against Napa Valley classics? And is the 70 dollar California Chardonnay really worth more than the 10 dollar South African one?"
   ]
  },
  {
   "cell_type": "markdown",
   "metadata": {},
   "source": [
    "## Analysis"
   ]
  },
  {
   "cell_type": "code",
   "execution_count": 114,
   "metadata": {},
   "outputs": [],
   "source": [
    "import pandas as pd\n",
    "import numpy as np\n",
    "import matplotlib.pyplot as plt\n",
    "import sklearn as sk\n",
    "from sklearn.model_selection import train_test_split \n",
    "from sklearn.linear_model import LinearRegression\n",
    "import statsmodels.api as sm"
   ]
  },
  {
   "cell_type": "code",
   "execution_count": 308,
   "metadata": {
    "scrolled": false
   },
   "outputs": [],
   "source": [
    "# Read in values\n",
    "wines = pd.read_csv(\"white-wine-price-rating.csv\")"
   ]
  },
  {
   "cell_type": "markdown",
   "metadata": {},
   "source": [
    "Even with a high paying tech job, I would never spend more than 250 dollars on a bottle of wine so the cut off for the data is $350 for the purpose of this model"
   ]
  },
  {
   "cell_type": "code",
   "execution_count": 309,
   "metadata": {},
   "outputs": [
    {
     "data": {
      "text/plain": [
       "Burgundy                1558\n",
       "Northern Italy           254\n",
       "German                   240\n",
       "Upper Loire Valley       198\n",
       "Californian              196\n",
       "Alsace                   187\n",
       "Northern Rhône           183\n",
       "South African            129\n",
       "Bordeaux                 125\n",
       "Loire                    109\n",
       "Spanish                  101\n",
       "Australian                95\n",
       "New Zealand               77\n",
       "Southern Rhône            76\n",
       "Northern Portugal         72\n",
       "Central Italy             66\n",
       "Southern Italy            66\n",
       "Napa Valley               61\n",
       "Austrian                  52\n",
       "Languedoc-Roussillon      42\n",
       "Jura                      41\n",
       "Argentinian               27\n",
       "Greek Santorini           20\n",
       "Portuguese                18\n",
       "Southern Portugal         17\n",
       "Italian                   17\n",
       "Oregon                    14\n",
       "Chilean                   10\n",
       "Loire Muscadet             5\n",
       "Canadian                   3\n",
       "Greek                      1\n",
       " Chilean                   1\n",
       "Name: Region, dtype: int64"
      ]
     },
     "execution_count": 309,
     "metadata": {},
     "output_type": "execute_result"
    }
   ],
   "source": [
    "wines = wines.where(wines.WinePrice < 350).dropna()\n",
    "wines.Region.value_counts()"
   ]
  },
  {
   "cell_type": "markdown",
   "metadata": {},
   "source": [
    "# What type of Wine Should I Buy?"
   ]
  },
  {
   "cell_type": "code",
   "execution_count": 334,
   "metadata": {
    "scrolled": true
   },
   "outputs": [
    {
     "data": {
      "text/plain": [
       "White                     1085\n",
       "Côte de Beaune White       951\n",
       "Chardonnay                 467\n",
       "Riesling                   394\n",
       "Chablis                    347\n",
       "Chenin Blanc               163\n",
       "Macônnais White            118\n",
       "Condrieu                    98\n",
       "Côte Chalonnaise White      61\n",
       "Gewürztraminer              56\n",
       "Name: RegionalVariety, dtype: int64"
      ]
     },
     "execution_count": 334,
     "metadata": {},
     "output_type": "execute_result"
    }
   ],
   "source": [
    "wine_variety = wines['RegionalVariety'].value_counts().head(10)\n",
    "\n",
    "wine_region = wines['Region'].value_counts().head(10)\n",
    "wine_variety"
   ]
  },
  {
   "cell_type": "code",
   "execution_count": 335,
   "metadata": {},
   "outputs": [],
   "source": [
    "w1 = wines.where(wines.RegionalVariety == 'Chablis').dropna()\n",
    "w2 = wines.where(wines.RegionalVariety == 'Côte de Beaune White').dropna()\n",
    "w3 = wines.where(wines.RegionalVariety == 'Chardonnay').dropna()\n",
    "w4 = wines.where(wines.RegionalVariety == 'Riesling').dropna()\n",
    "w5 = wines.where(wines.RegionalVariety == 'Chenin Blanc').dropna()\n",
    "w6 = wines.where(wines.RegionalVariety == 'White').dropna()"
   ]
  },
  {
   "cell_type": "markdown",
   "metadata": {},
   "source": [
    "### Find Regression for Chablis"
   ]
  },
  {
   "cell_type": "code",
   "execution_count": 336,
   "metadata": {},
   "outputs": [],
   "source": [
    "Y = w1.WineRating.values.reshape(-1,1)\n",
    "X = w1.WinePrice.values.reshape(-1,1)\n",
    "\n",
    "X_train, X_test, y_train, y_test = train_test_split(X, Y, test_size=0.50, random_state=0)\n",
    "\n",
    "X_train = X_train[np.logical_not(np.isnan(X_train))].reshape(-1,1)\n",
    "X_test1 = X_test[np.logical_not(np.isnan(X_test))].reshape(-1,1)\n",
    "y_train = y_train[np.logical_not(np.isnan(y_train))].reshape(-1,1)\n",
    "y_test = y_test[np.logical_not(np.isnan(y_test))].reshape(-1,1)\n",
    "\n",
    "\n",
    "\n",
    "#Find Regression\n",
    "regressor1 = LinearRegression()  \n",
    "regressor1.fit(X_train, y_train)\n",
    "y_pred1 = regressor1.predict(X_test1)\n",
    "\n",
    "\n"
   ]
  },
  {
   "cell_type": "markdown",
   "metadata": {},
   "source": [
    "### Côte de Beaune White"
   ]
  },
  {
   "cell_type": "code",
   "execution_count": 337,
   "metadata": {},
   "outputs": [],
   "source": [
    "Y = w2.WineRating.values.reshape(-1,1)\n",
    "X = w2.WinePrice.values.reshape(-1,1)\n",
    "\n",
    "X_train, X_test, y_train, y_test = train_test_split(X, Y, test_size=0.50, random_state=0)\n",
    "\n",
    "X_train = X_train[np.logical_not(np.isnan(X_train))].reshape(-1,1)\n",
    "X_test2 = X_test[np.logical_not(np.isnan(X_test))].reshape(-1,1)\n",
    "y_train = y_train[np.logical_not(np.isnan(y_train))].reshape(-1,1)\n",
    "y_test = y_test[np.logical_not(np.isnan(y_test))].reshape(-1,1)\n",
    "\n",
    "\n",
    "\n",
    "#Find Regression\n",
    "regressor2 = LinearRegression()  \n",
    "regressor2.fit(X_train, y_train)\n",
    "y_pred2 = regressor2.predict(X_test2)\n",
    "\n",
    "\n",
    "\n"
   ]
  },
  {
   "cell_type": "markdown",
   "metadata": {},
   "source": [
    "### Chardonnay"
   ]
  },
  {
   "cell_type": "code",
   "execution_count": 338,
   "metadata": {},
   "outputs": [],
   "source": [
    "Y = w3.WineRating.values.reshape(-1,1)\n",
    "X = w3.WinePrice.values.reshape(-1,1)\n",
    "\n",
    "X_train, X_test, y_train, y_test = train_test_split(X, Y, test_size=0.50, random_state=0)\n",
    "\n",
    "X_train = X_train[np.logical_not(np.isnan(X_train))].reshape(-1,1)\n",
    "X_test3 = X_test[np.logical_not(np.isnan(X_test))].reshape(-1,1)\n",
    "y_train = y_train[np.logical_not(np.isnan(y_train))].reshape(-1,1)\n",
    "y_test = y_test[np.logical_not(np.isnan(y_test))].reshape(-1,1)\n",
    "\n",
    "\n",
    "\n",
    "#Find Regression\n",
    "regressor3 = LinearRegression()  \n",
    "regressor3.fit(X_train, y_train)\n",
    "y_pred3 = regressor3.predict(X_test3)\n",
    "\n",
    "\n"
   ]
  },
  {
   "cell_type": "markdown",
   "metadata": {},
   "source": [
    "### Riesling"
   ]
  },
  {
   "cell_type": "code",
   "execution_count": 339,
   "metadata": {},
   "outputs": [],
   "source": [
    "Y = w4.WineRating.values.reshape(-1,1)\n",
    "X = w4.WinePrice.values.reshape(-1,1)\n",
    "\n",
    "X_train, X_test, y_train, y_test = train_test_split(X, Y, test_size=0.50, random_state=0)\n",
    "\n",
    "X_train = X_train[np.logical_not(np.isnan(X_train))].reshape(-1,1)\n",
    "X_test4 = X_test[np.logical_not(np.isnan(X_test))].reshape(-1,1)\n",
    "y_train = y_train[np.logical_not(np.isnan(y_train))].reshape(-1,1)\n",
    "y_test = y_test[np.logical_not(np.isnan(y_test))].reshape(-1,1)\n",
    "\n",
    "\n",
    "\n",
    "#Find Regression\n",
    "regressor4 = LinearRegression()  \n",
    "regressor4.fit(X_train, y_train)\n",
    "y_pred4 = regressor4.predict(X_test4)\n",
    "\n",
    "\n",
    "\n"
   ]
  },
  {
   "cell_type": "markdown",
   "metadata": {},
   "source": [
    "### Chenin Blanc"
   ]
  },
  {
   "cell_type": "code",
   "execution_count": 340,
   "metadata": {},
   "outputs": [],
   "source": [
    "Y = w5.WineRating.values.reshape(-1,1)\n",
    "X = w5.WinePrice.values.reshape(-1,1)\n",
    "\n",
    "X_train, X_test, y_train, y_test = train_test_split(X, Y, test_size=0.50, random_state=0)\n",
    "\n",
    "X_train = X_train[np.logical_not(np.isnan(X_train))].reshape(-1,1)\n",
    "X_test5 = X_test[np.logical_not(np.isnan(X_test))].reshape(-1,1)\n",
    "y_train = y_train[np.logical_not(np.isnan(y_train))].reshape(-1,1)\n",
    "y_test = y_test[np.logical_not(np.isnan(y_test))].reshape(-1,1)\n",
    "\n",
    "\n",
    "\n",
    "#Find Regression\n",
    "regressor5 = LinearRegression()  \n",
    "regressor5.fit(X_train, y_train)\n",
    "y_pred5 = regressor5.predict(X_test5)\n",
    "\n",
    "\n",
    "\n"
   ]
  },
  {
   "cell_type": "markdown",
   "metadata": {},
   "source": [
    "### White"
   ]
  },
  {
   "cell_type": "code",
   "execution_count": 341,
   "metadata": {},
   "outputs": [],
   "source": [
    "Y = w6.WineRating.values.reshape(-1,1)\n",
    "X = w6.WinePrice.values.reshape(-1,1)\n",
    "\n",
    "X_train, X_test, y_train, y_test = train_test_split(X, Y, test_size=0.50, random_state=0)\n",
    "\n",
    "X_train = X_train[np.logical_not(np.isnan(X_train))].reshape(-1,1)\n",
    "X_test6 = X_test[np.logical_not(np.isnan(X_test))].reshape(-1,1)\n",
    "y_train = y_train[np.logical_not(np.isnan(y_train))].reshape(-1,1)\n",
    "y_test = y_test[np.logical_not(np.isnan(y_test))].reshape(-1,1)\n",
    "\n",
    "\n",
    "\n",
    "#Find Regression\n",
    "regressor6 = LinearRegression()  \n",
    "regressor6.fit(X_train, y_train)\n",
    "y_pred6 = regressor6.predict(X_test6)\n",
    "\n",
    "\n",
    "\n"
   ]
  },
  {
   "cell_type": "markdown",
   "metadata": {},
   "source": [
    "## Plot Price vs Rating w/ Regressions"
   ]
  },
  {
   "cell_type": "code",
   "execution_count": 342,
   "metadata": {},
   "outputs": [
    {
     "data": {
      "image/png": "[encoded data removed]",
      "text/plain": [
       "<Figure size 432x288 with 6 Axes>"
      ]
     },
     "metadata": {
      "needs_background": "light"
     },
     "output_type": "display_data"
    }
   ],
   "source": [
    "\n",
    "figure.tight_layout()\n",
    "figure, axes = plt.subplots(nrows=2, ncols=3)\n",
    "\n",
    "axes[0,0].scatter(w1.WinePrice, w1.WineRating, color = 'tan')\n",
    "axes[0,0].plot(X_test1, y_pred1, color='maroon', linewidth=2)\n",
    "axes[0,0].set_title('Chablis')\n",
    "\n",
    "axes[0,1].scatter(w2.WinePrice, w2.WineRating, color = 'coral')\n",
    "axes[0,1].plot(X_test2, y_pred2, color='maroon', linewidth=2)\n",
    "axes[0,1].set_title('Cote de Beaune')\n",
    "\n",
    "axes[0,2].scatter(w5.WinePrice, w5.WineRating, color = 'lemonchiffon')\n",
    "axes[0,2].plot(X_test5, y_pred5, color='maroon', linewidth=2)\n",
    "axes[0,2].set_title('Chenin Blanc')\n",
    "\n",
    "axes[1,0].scatter(w3.WinePrice, w3.WineRating, color = 'goldenrod')\n",
    "axes[1,0].plot(X_test3, y_pred3, color='maroon', linewidth=2)\n",
    "axes[1,0].set_title('Chardonnay')\n",
    "\n",
    "axes[1,1].scatter(w4.WinePrice, w4.WineRating, color = 'navajowhite')\n",
    "axes[1,1].plot(X_test4, y_pred4, color='maroon', linewidth=2)\n",
    "axes[1,1].set_title('Riesling')\n",
    "\n",
    "axes[1,2].scatter(w6.WinePrice, w6.WineRating, color = 'khaki')\n",
    "axes[1,2].plot(X_test6, y_pred6, color='maroon', linewidth=2)\n",
    "axes[1,2].set_title('White')\n",
    "\n",
    "figure.tight_layout()\n",
    "\n",
    "\n"
   ]
  },
  {
   "cell_type": "markdown",
   "metadata": {},
   "source": [
    "### How much should I spend on a good bottle of wine?"
   ]
  },
  {
   "cell_type": "markdown",
   "metadata": {},
   "source": [
    "Looking at the charts and regression lines, I am more inclined to pay a little bit more for that bottle of Riesling or Chenin Blanc, but Cote de Beaune? The price does not seem to make as much of a difference in the quality of the wine. "
   ]
  },
  {
   "cell_type": "code",
   "execution_count": 428,
   "metadata": {},
   "outputs": [
    {
     "name": "stdout",
     "output_type": "stream",
     "text": [
      "Chablis: [0.02125654] increase in rating per $10 increase in price\n",
      "Chablis Average Cost: $66.69332853025941\n",
      "Chablis Average Rating: 4.125648414985599\n",
      "\n",
      "Cote de Beaune: [0.01470393] increase in rating per $10 increase in price\n",
      "Cote de Beaune Average Cost: $89.99590956887502\n",
      "Cote de Beaune Average Rating: 4.224079915877983\n",
      "\n",
      "Chardonnay: [0.02285003] increase in rating per $10 increase in price\n",
      "Chardonnay Average Cost: $62.80698072805164\n",
      "Chardonnay Average Rating: 4.17580299785867\n",
      "\n",
      "Riesling: [0.02314767] increase in rating per $10 increase in price\n",
      "Riesling Average Cost: $51.005177664974724\n",
      "Riesling Average Rating: 4.147208121827412\n",
      "\n",
      "Chenin Blanc: [0.02374609] increase in rating per $10 increase in price\n",
      "Chenin Blanc Average Cost: $45.09395705521467\n",
      "Chenin Blanc Average Rating: 4.120245398773008\n",
      "\n",
      "White: [0.01685195] increase in rating per $10 increase in price\n",
      "White Average Cost: $59.39418433179715\n",
      "White Average Rating: 4.122672811059884/\n"
     ]
    },
    {
     "data": {
      "image/png": "[encoded data removed]",
      "text/plain": [
       "<Figure size 432x288 with 1 Axes>"
      ]
     },
     "metadata": {
      "needs_background": "light"
     },
     "output_type": "display_data"
    }
   ],
   "source": [
    "coef1 = regressor1.coef_[0].astype(float)*10\n",
    "print(f\"Chablis: {regressor1.coef_[0]*10} increase in rating per $10 increase in price\")\n",
    "mean1 = w1.WinePrice.mean()\n",
    "print(f\"Chablis Average Cost: ${mean1}\")\n",
    "rate1 = w1.WineRating.mean()\n",
    "print(f\"Chablis Average Rating: {rate1}\")\n",
    "sd1= np.std(w1.WineRating)\n",
    "\n",
    "coef2 = regressor2.coef_[0].astype(float)*10\n",
    "print(f\"\\nCote de Beaune: {regressor2.coef_[0]*10} increase in rating per $10 increase in price\")\n",
    "mean2 = w2.WinePrice.mean()\n",
    "print(f\"Cote de Beaune Average Cost: ${mean2}\")\n",
    "rate2 = w2.WineRating.mean()\n",
    "print(f\"Cote de Beaune Average Rating: {rate2}\")\n",
    "sd2 = np.std(w2.WineRating)\n",
    "\n",
    "\n",
    "coef3 = regressor3.coef_[0].astype(float)*10\n",
    "print(f\"\\nChardonnay: {regressor3.coef_[0]*10} increase in rating per $10 increase in price\")\n",
    "mean3 = w3.WinePrice.mean()\n",
    "print(f\"Chardonnay Average Cost: ${mean3}\")\n",
    "rate3 = w3.WineRating.mean()\n",
    "print(f\"Chardonnay Average Rating: {rate3}\")\n",
    "sd3 = np.std(w3.WineRating)\n",
    "\n",
    "\n",
    "coef4 = regressor4.coef_[0].astype(float)*10\n",
    "print(f\"\\nRiesling: {regressor4.coef_[0]*10} increase in rating per $10 increase in price\")\n",
    "mean4 = w4.WinePrice.mean()\n",
    "print(f\"Riesling Average Cost: ${mean4}\")\n",
    "rate4 = w4.WineRating.mean()\n",
    "print(f\"Riesling Average Rating: {rate4}\")\n",
    "sd4 = np.std(w4.WineRating)\n",
    "\n",
    "coef5 = regressor5.coef_[0]*1\n",
    "print(f\"\\nChenin Blanc: {regressor5.coef_[0]*10} increase in rating per $10 increase in price\")\n",
    "mean5 = w5.WinePrice.mean()\n",
    "print(f\"Chenin Blanc Average Cost: ${mean5}\")\n",
    "rate5 = w5.WineRating.mean()\n",
    "print(f\"Chenin Blanc Average Rating: {rate5}\")\n",
    "sd5 = np.std(w5.WineRating)\n",
    "\n",
    "coef6 = regressor6.coef_[0].astype(float)*10\n",
    "print(f\"\\nWhite: {regressor6.coef_[0]*10} increase in rating per $10 increase in price\")\n",
    "mean6 = w6.WinePrice.mean()\n",
    "print(f\"White Average Cost: ${mean6}\")\n",
    "rate6 = w6.WineRating.mean()\n",
    "print(f\"White Average Rating: {rate6}/\")\n",
    "sd6 = np.std(w6.WineRating)\n",
    "\n",
    "increase_10 = [coef1[0],coef2[0],coef3[0],coef4[0],coef5[0],coef6[0]]\n",
    "rating = [rate1, rate2, rate3, rate4, rate5, rate6]\n",
    "wine_names = ['Chablis','Cote de Beaune','Chardonnay','Riesling','Chenin Blanc','White']\n",
    "x_pos = [i for i, _ in enumerate(wine_names)]\n",
    "sd = [sd1, sd2, sd3, sd4, sd5, sd6]\n",
    "plt.bar(x_pos, increase_10, color = 'maroon')\n",
    "plt.ylabel('Increase In Rating (per $10 Increase)')\n",
    "plt.xlabel('Chablis Cote de Beaune Chardonnay Riesling Chenin Blanc White')\n",
    "plt.show()"
   ]
  },
  {
   "cell_type": "code",
   "execution_count": 355,
   "metadata": {},
   "outputs": [
    {
     "name": "stdout",
     "output_type": "stream",
     "text": [
      "Chablis rating increase in rating per 10% increase in price: [0.01417669]\n",
      "Cote de Beaune rating increase in rating per 10% increase in price: [0.00980654]\n",
      "Chardonnay rating increase in rating per 10% increase in price: [0.01523945]\n",
      "Riesling rating increase in rating per 10% increase in price: [0.01543795]\n",
      "Chenin Blanc rating increase in rating per 10% increase in price: [0.01583706]\n",
      "White rating increase in rating per 10% increase in price: [0.01123912]\n"
     ]
    }
   ],
   "source": [
    "coef1 = regressor1.coef_[0].astype(float)*mean1*.1\n",
    "coef2 = regressor2.coef_[0].astype(float)*mean2*.1\n",
    "coef3 = regressor3.coef_[0].astype(float)*mean3*.1\n",
    "coef4 = regressor4.coef_[0].astype(float)*mean4*.1\n",
    "coef5 = regressor5.coef_[0].astype(float)*mean5*.1\n",
    "coef6 = regressor6.coef_[0].astype(float)*mean6*.1\n",
    "\n",
    "\n",
    "\n",
    "print(f\"Chablis rating increase in rating per 10% increase in price: {regressor1.coef_[0]*mean1*.1}\")\n",
    "print(f\"Cote de Beaune rating increase in rating per 10% increase in price: {regressor2.coef_[0]*mean1*.1}\")\n",
    "print(f\"Chardonnay rating increase in rating per 10% increase in price: {regressor3.coef_[0]*mean1*.1}\")\n",
    "print(f\"Riesling rating increase in rating per 10% increase in price: {regressor4.coef_[0]*mean1*.1}\")\n",
    "print(f\"Chenin Blanc rating increase in rating per 10% increase in price: {regressor5.coef_[0]*mean1*.1}\")\n",
    "print(f\"White rating increase in rating per 10% increase in price: {regressor6.coef_[0]*mean1*.1}\")\n",
    "\n",
    "\n",
    "\n",
    "increase_percent = [coef1[0],coef2[0],coef3[0],coef4[0],coef5[0],coef6[0]]\n",
    "sd = [sd1, sd2, sd3, sd4, sd5, sd6]\n",
    "\n",
    "\n",
    "\n",
    "\n"
   ]
  },
  {
   "cell_type": "markdown",
   "metadata": {},
   "source": [
    "### What wine has the best deals?"
   ]
  },
  {
   "cell_type": "markdown",
   "metadata": {},
   "source": [
    "To find where I can find the best deals, I plot histograms of Wine Rating to Price Ratio\n",
    "\n"
   ]
  },
  {
   "cell_type": "code",
   "execution_count": 368,
   "metadata": {
    "scrolled": true
   },
   "outputs": [
    {
     "data": {
      "image/png": "[encoded data removed]",
      "text/plain": [
       "<Figure size 432x288 with 6 Axes>"
      ]
     },
     "metadata": {
      "needs_background": "light"
     },
     "output_type": "display_data"
    }
   ],
   "source": [
    "figure, axes = plt.subplots(nrows=2, ncols=3)\n",
    "\n",
    "weights = np.ones_like(w1.WineRatingPriceRatio) / len(w1.WineRatingPriceRatio)\n",
    "axes[0,0].hist(w1.WineRatingPriceRatio, color = 'tan', weights = weights)\n",
    "axes[0,0].set_title('Chablis')\n",
    "\n",
    "weights = np.ones_like(w2.WineRatingPriceRatio) / len(w2.WineRatingPriceRatio)\n",
    "axes[0,1].hist(w2.WineRatingPriceRatio, color = 'coral', weights = weights)\n",
    "axes[0,1].set_title('Cote de Beaune')\n",
    "\n",
    "weights = np.ones_like(w5.WineRatingPriceRatio) / len(w5.WineRatingPriceRatio)\n",
    "axes[0,2].hist(w5.WineRatingPriceRatio, color = 'lemonchiffon', weights = weights)\n",
    "axes[0,2].set_title('Chenin Blanc')\n",
    "\n",
    "\n",
    "weights = np.ones_like(w3.WineRatingPriceRatio) / len(w3.WineRatingPriceRatio)\n",
    "axes[1,0].hist(w3.WineRatingPriceRatio, color = 'goldenrod', weights = weights)\n",
    "axes[1,0].set_title('Chardonnay')\n",
    "\n",
    "weights = np.ones_like(w4.WineRatingPriceRatio) / len(w4.WineRatingPriceRatio)\n",
    "axes[1,1].hist(w4.WineRatingPriceRatio, color = 'navajowhite', weights = weights)\n",
    "axes[1,1].set_title('Riesling')\n",
    "\n",
    "weights = np.ones_like(w6.WineRatingPriceRatio) / len(w6.WineRatingPriceRatio)\n",
    "axes[1,2].hist(w6.WineRatingPriceRatio, color = 'khaki', weights = weights)\n",
    "axes[1,2].set_title('White')\n",
    "\n",
    "figure.tight_layout()"
   ]
  },
  {
   "cell_type": "markdown",
   "metadata": {},
   "source": [
    "The best deals (<.175 ratio) can be found in the Chenin Blanc grape, as well as the Riesling and Chablis. For Chardonnay, they are out there but fewer in comparision to the general population. \"Good deals\" do not exist for Cote de Beaune."
   ]
  },
  {
   "cell_type": "code",
   "execution_count": 109,
   "metadata": {},
   "outputs": [
    {
     "data": {
      "image/png": "[encoded data removed]",
      "text/plain": [
       "<Figure size 432x288 with 1 Axes>"
      ]
     },
     "metadata": {
      "needs_background": "light"
     },
     "output_type": "display_data"
    },
    {
     "data": {
      "image/png": "[encoded data removed]",
      "text/plain": [
       "<Figure size 432x288 with 4 Axes>"
      ]
     },
     "metadata": {
      "needs_background": "light"
     },
     "output_type": "display_data"
    }
   ],
   "source": [
    "plt.hist(wines.WineRatingPriceRatio, color = 'dimgrey')\n",
    "plt.show()\n",
    "\n",
    "figure, axes = plt.subplots(nrows=2, ncols=2)\n",
    "\n",
    "axes[0,0].hist(w1.WineRatingPriceRatio, color = 'tan')\n",
    "axes[0,0].set_title('Chablis')\n",
    "\n",
    "axes[0,1].hist(w2.WineRatingPriceRatio, color = 'coral')\n",
    "axes[0,1].set_title('Cote de Beaune')\n",
    "\n",
    "axes[1,0].hist(w3.WineRatingPriceRatio, color = 'goldenrod')\n",
    "axes[1,0].set_title('Chardonnay')\n",
    "\n",
    "axes[1,1].hist(w4.WineRatingPriceRatio, color = 'navajowhite')\n",
    "axes[1,1].set_title('Riesling')\n",
    "\n",
    "\n",
    "figure.tight_layout()\n",
    "\n"
   ]
  },
  {
   "cell_type": "code",
   "execution_count": 60,
   "metadata": {},
   "outputs": [
    {
     "data": {
      "image/png": "[encoded data removed]",
      "text/plain": [
       "<Figure size 432x288 with 1 Axes>"
      ]
     },
     "metadata": {
      "needs_background": "light"
     },
     "output_type": "display_data"
    }
   ],
   "source": [
    "plt.hist(wines.VintageRatingPriceRatio, color = 'maroon')\n",
    "plt.show()"
   ]
  },
  {
   "cell_type": "code",
   "execution_count": null,
   "metadata": {},
   "outputs": [],
   "source": [
    "plt.hist(wines.WineRatingPriceRatio, color = 'dimgrey')\n",
    "\n"
   ]
  }
 ],
 "metadata": {
  "kernelspec": {
   "display_name": "Python 3",
   "language": "python",
   "name": "python3"
  },
  "language_info": {
   "codemirror_mode": {
    "name": "ipython",
    "version": 3
   },
   "file_extension": ".py",
   "mimetype": "text/x-python",
   "name": "python",
   "nbconvert_exporter": "python",
   "pygments_lexer": "ipython3",
   "version": "3.7.1"
  }
 },
 "nbformat": 4,
 "nbformat_minor": 2
}
